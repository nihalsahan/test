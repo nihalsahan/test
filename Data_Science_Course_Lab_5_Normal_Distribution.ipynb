{
 "cells": [
  {
   "cell_type": "code",
   "execution_count": null,
   "metadata": {},
   "outputs": [],
   "source": [
    "from collections import defaultdict\n",
    "\n",
    "import numpy as np\n",
    "import pandas as pd\n",
    "import matplotlib.pyplot as plt\n",
    "\n",
    "from datetime import datetime\n",
    "from numpy import pi, sin\n",
    "from operator import add\n",
    "from time import sleep\n",
    "\n",
    "from matplotlib import animation\n",
    "from matplotlib.widgets import Slider, Button, RadioButtons\n",
    "\n",
    "#from sympy import *\n",
    "from sympy import exp, init_printing, integrate, latex, Lambda, N, var\n",
    "\n",
    "#from IPython import display\n",
    "from IPython.display import clear_output, display, HTML, Latex\n",
    "\n",
    "init_printing(use_latex=True)\n",
    "\n",
    "%matplotlib inline\n",
    "# %pylab inline"
   ]
  },
  {
   "cell_type": "code",
   "execution_count": null,
   "metadata": {},
   "outputs": [],
   "source": [
    "plt.rcParams[\"font.size\"] = 30\n",
    "plt.rcParams['figure.figsize'] = [12, 8]\n",
    "plt.rcParams['figure.titlesize'] = 20\n",
    "plt.rcParams[\"axes.titlesize\"] = 20\n",
    "plt.rcParams[\"axes.labelsize\"] = 20\n",
    "plt.rcParams[\"xtick.labelsize\"] = 20\n",
    "plt.rcParams[\"ytick.labelsize\"] = 20\n",
    "plt.rcParams[\"legend.fontsize\"] = 20"
   ]
  },
  {
   "cell_type": "code",
   "execution_count": null,
   "metadata": {},
   "outputs": [],
   "source": [
    "BASE_DIR = \".\"\n",
    "DEBUG = False\n",
    "\n",
    "rand_state = np.random.RandomState(42)"
   ]
  },
  {
   "cell_type": "markdown",
   "metadata": {},
   "source": [
    "# Probability Density Function"
   ]
  },
  {
   "cell_type": "code",
   "execution_count": null,
   "metadata": {},
   "outputs": [],
   "source": [
    "init_printing(use_latex=True)\n",
    "\n",
    "fig = plt.gcf()\n",
    "fig.set_size_inches(10,8)\n",
    "var('a b x sigma mu')\n",
    "pdf = Lambda((x,mu,sigma),\n",
    "  (1/(sigma * np.sqrt(2*np.pi)) * exp(-(mu-x)**2 / (2*sigma**2)))\n",
    ")\n",
    "cdf = Lambda((a,b,mu,sigma),\n",
    "  integrate(\n",
    "    pdf(x,mu,sigma),(x,a,b)\n",
    "  )\n",
    ")\n",
    "\n",
    "ltx = '$ pdf(x,\\\\mu,\\\\sigma) = \\\\frac{1}{ \\\\sigma' + \\\n",
    " '\\\\sqrt{2 \\\\pi}} e^{\\\\left(-\\\\frac{{\\\\left(\\\\mu - ' + \\\n",
    " 'x\\\\right)}^{2}}{2 \\\\, \\\\sigma^{2}}\\\\right)}$'\n",
    "display(Latex(ltx))\n",
    "\n",
    "display(Latex('$ cdf(a,b,\\mu,\\sigma) = ' + latex(cdf(a,b,mu,sigma)) + '$'))\n",
    "\n",
    "\n",
    "mu = 50\n",
    "sigma = 15\n",
    "x = np.linspace(0,100,100)\n",
    "y = np.array([pdf(v,mu,sigma) for v in x],dtype='float')\n",
    "\n",
    "plt.grid(True)\n",
    "plt.title('Probability Density Function',fontsize=30)\n",
    "plt.xlabel('Score',fontsize=20)\n",
    "plt.ylabel('Density',fontsize=20)\n",
    "plt.text(7,0.023,'$\\mu = 50$',fontsize=15)\n",
    "plt.text(7,0.021,'$\\sigma = 15$',fontsize=15)\n",
    "plt.text(50-2,-0.0028,'50',fontsize=20,color=\"green\")\n",
    "plt.tick_params(labelsize=20)\n",
    "\n",
    "plt.plot(x,y,color='gray')\n",
    "plt.fill_between(x,y,0,color='#c0f0c0')\n",
    "\n",
    "plt.axvline(mu, linestyle=':', linewidth=3, label='$\\mu$', color=\"green\")\n",
    "\n",
    "ymax=max(y)*2/3\n",
    "\n",
    "plt.vlines(x=mu+sigma, ymin=0, ymax=ymax, linestyle='-', linewidth=2, label='$\\mu \\pm \\sigma$', color=\"blue\")\n",
    "plt.vlines(x=mu-sigma, ymin=0, ymax=ymax, linestyle='-', linewidth=2, color=\"blue\")\n",
    "           \n",
    "plt.vlines(x=mu+2*sigma, ymin=0, ymax=ymax, linestyle='-', linewidth=2, label='$\\mu \\pm 2\\sigma$', color=\"brown\")\n",
    "plt.vlines(x=mu-2*sigma, ymin=0, ymax=ymax, linestyle='-', linewidth=2, color=\"brown\")\n",
    "\n",
    "plt.vlines(x=mu+3*sigma, ymin=0, ymax=ymax, linestyle='-', linewidth=2, label='$\\mu \\pm 3\\sigma$', color=\"red\")\n",
    "plt.vlines(x=mu-3*sigma, ymin=0, ymax=ymax, linestyle='-', linewidth=2, color=\"red\")\n",
    "\n",
    "plt.legend(prop=dict(size=15))\n",
    "\n",
    "plt.show()\n",
    "\n",
    "tbl = [['$\\pm \\sigma$','min score','max score','% of scores in range']]\n",
    "for s in range(0,4):\n",
    "  tbl.append(['%d' % s, '%d' % (mu-s*sigma), '%d' % (mu+s*sigma),'%.4f' % N(cdf(-s,s,0,1))])\n",
    "df = pd.DataFrame(tbl)\n",
    "HTML(df.to_html(header=None,index=None, justify=\"center\"))"
   ]
  },
  {
   "cell_type": "markdown",
   "metadata": {},
   "source": [
    "# Cumulative Distribution Function"
   ]
  },
  {
   "cell_type": "code",
   "execution_count": null,
   "metadata": {},
   "outputs": [],
   "source": [
    "fig = plt.gcf()\n",
    "fig.set_size_inches(8,5)\n",
    "display(Latex('$ cdf(a,b,\\mu,\\sigma) = ' + latex(cdf(a,b,mu,sigma)) + '$'))\n",
    "mu = 50\n",
    "sigma = 15\n",
    "x = np.linspace(0,100,100)\n",
    "y = np.array([cdf(-1e99,v,mu,sigma) for v in x],dtype='float')\n",
    "plt.grid(True)\n",
    "plt.title('Cumulative Distribution Function',fontsize=30)\n",
    "plt.xlabel('Score',fontsize=20)\n",
    "plt.ylabel('Cumulative Density',fontsize=20)\n",
    "plt.text(3,.73,'$\\mu = 50$',fontsize=16)\n",
    "plt.text(3,.63,'$\\sigma = 15$',fontsize=16)\n",
    "plt.plot(x,y,color='gray')\n",
    "plt.fill_between(x,y,0,color='#c0f0c0')\n",
    "plt.show()"
   ]
  },
  {
   "cell_type": "markdown",
   "metadata": {},
   "source": [
    "If you want to use symbols instead of numerical values in formula, you need to create the Latex expression in the display before you assign the values to $\\mu$ and $\\sigma$"
   ]
  },
  {
   "cell_type": "code",
   "execution_count": null,
   "metadata": {},
   "outputs": [],
   "source": [
    "fig = plt.gcf()\n",
    "fig.set_size_inches(8,5)\n",
    "var('a b x sigma mu')\n",
    "pdf = Lambda((x,mu,sigma),\n",
    "  (1/(sigma * np.sqrt(2*pi)) * exp(-(mu-x)**2 / (2*sigma**2)))\n",
    ")\n",
    "cdf = Lambda((a,b,mu,sigma),\n",
    "  integrate(\n",
    "    pdf(x,mu,sigma),(x,a,b)\n",
    "  )\n",
    ")\n",
    "\n",
    "display(Latex('$ cdf(a,b,\\mu,\\sigma) = ' + latex(cdf(a,b,mu,sigma)) + '$'))\n",
    "\n",
    "# To display symbols, the above line must be before the following assignments\n",
    "\n",
    "mu = 50\n",
    "sigma = 15\n",
    "\n",
    "x = np.linspace(0,100,100)\n",
    "y = np.array([cdf(-1e99,v,mu,sigma) for v in x],dtype='float')\n",
    "plt.grid(True)\n",
    "plt.title('Cumulative Distribution Function',fontsize=30)\n",
    "plt.xlabel('Score',fontsize=20)\n",
    "plt.ylabel('Cumulative Density',fontsize=20)\n",
    "plt.text(3,.73,'$\\mu = 50$',fontsize=16)\n",
    "plt.text(3,.63,'$\\sigma = 15$',fontsize=16)\n",
    "plt.plot(x,y,color='gray')\n",
    "plt.fill_between(x,y,0,color='#c0f0c0')\n",
    "plt.show()"
   ]
  },
  {
   "cell_type": "markdown",
   "metadata": {},
   "source": [
    "# Random Walk & Normal Distribution"
   ]
  },
  {
   "cell_type": "code",
   "execution_count": null,
   "metadata": {},
   "outputs": [],
   "source": [
    "def random_walk_1D(T, N):\n",
    "    dt = T/float(N)\n",
    "    # simulate the increments by normal random variable generator\n",
    "    increments = rand_state.normal(0, 1*np.sqrt(dt), N)\n",
    "    t = np.linspace(0.0, N*dt, N+1)\n",
    "    W = [0] + list(np.cumsum(increments))\n",
    "    return t, W"
   ]
  },
  {
   "cell_type": "code",
   "execution_count": null,
   "metadata": {},
   "outputs": [],
   "source": [
    "T = 10     # T: total time\n",
    "N = 500    # N: The total number of steps"
   ]
  },
  {
   "cell_type": "code",
   "execution_count": null,
   "metadata": {},
   "outputs": [],
   "source": [
    "plt.xlabel('time')\n",
    "plt.ylabel('walk')\n",
    "#plt.grid(True)\n",
    "\n",
    "for i in range(100):\n",
    "    t, W = random_walk_1D(T, N)\n",
    "\n",
    "    # scatter points on the main axes\n",
    "    plt.plot(t, W, markersize=1, alpha=1)\n",
    "\n",
    "    display(plt.gcf())\n",
    "    clear_output(wait=True)\n",
    "#    sleep(1)"
   ]
  },
  {
   "cell_type": "markdown",
   "metadata": {},
   "source": [
    "Let's repeat the above, but this time also plotting the histogram:"
   ]
  },
  {
   "cell_type": "code",
   "execution_count": null,
   "metadata": {},
   "outputs": [],
   "source": [
    "start = datetime.now()\n",
    "print(\"Start time : {0}\".format(start.strftime(\"%Y-%m-%d %H:%M:%S\")))\n",
    "\n",
    "# reset the RNG for repeatability\n",
    "rand_state = np.random.RandomState(0)\n",
    "\n",
    "T = 10     # T: total time\n",
    "N = 500    # N: The total number of steps\n",
    "\n",
    "fig = plt.figure(figsize=(15, 10))\n",
    "grid = plt.GridSpec(1, 7, hspace=0.01, wspace=0.01)\n",
    "main_ax = fig.add_subplot(grid[0, 0:5], xticklabels=[0, 2, 4, 6, 8, ], yticklabels=[-15, -10, -5, 0, 5, 10, 15])\n",
    "y_hist = fig.add_subplot(grid[0, 5:7], xticklabels=[0, 100, 200, 300], yticklabels=[]) #, sharey=main_ax)\n",
    "#y_hist.invert_xaxis()\n",
    "\n",
    "main_ax.set_xlabel('time')\n",
    "main_ax.set_ylabel('walk')\n",
    "\n",
    "#main_ax.yaxis.tick_right()\n",
    "\n",
    "main_ax.set_xlim((0, 10))\n",
    "main_ax.set_ylim((-15, 15))\n",
    "\n",
    "y_hist.set_xlim((0, 300))\n",
    "y_hist.set_ylim((-15, 15))\n",
    "\n",
    "y_hist.set_xlabel('count')\n",
    "#y_hist.set_ylabel('walk')\n",
    "\n",
    "#y_hist.yaxis.tick_right()\n",
    "\n",
    "#plt.grid(True)\n",
    "y = []\n",
    "\n",
    "while True:\n",
    "    try:\n",
    "        t, W = random_walk_1D(T, N)\n",
    "        y.append(W[-1])\n",
    "\n",
    "        # scatter points on the main axes\n",
    "        main_ax.plot(t, W, markersize=1, alpha=1)\n",
    "        \n",
    "        # histogram on the attached axes\n",
    "        y_hist.hist(y, 40, histtype='stepfilled', orientation='horizontal', color='red')\n",
    "        \n",
    "        display(plt.gcf())\n",
    "        clear_output(wait=True)\n",
    "        #sleep(1)\n",
    "    except KeyboardInterrupt:\n",
    "        break\n",
    "        \n",
    "end = datetime.now()\n",
    "print(\"Start time : {0}\".format(start.strftime(\"%Y-%m-%d %H:%M:%S\")))\n",
    "print(\"End time : {0}   (total run-time={1:.2f}sec)\".format(end.strftime(\"%Y-%m-%d %H:%M:%S\"),\n",
    "                                              (datetime.now()-start).total_seconds()))"
   ]
  },
  {
   "cell_type": "markdown",
   "metadata": {},
   "source": [
    "Here is how my output looks like after 1 hour:\n",
    "\n",
    "<IMG src=\"Random_Walk_after_1_hour.png\">"
   ]
  },
  {
   "cell_type": "markdown",
   "metadata": {},
   "source": [
    "Here is how my output looks like after 3 hours:\n",
    "\n",
    "<IMG src=\"Random_Walk_after_3_hours.png\">"
   ]
  },
  {
   "cell_type": "markdown",
   "metadata": {},
   "source": [
    "Here is how my output looks like after 7 hours:\n",
    "\n",
    "<IMG src=\"Random_Walk_after_7_hours.png\">"
   ]
  },
  {
   "cell_type": "code",
   "execution_count": null,
   "metadata": {},
   "outputs": [],
   "source": []
  }
 ],
 "metadata": {
  "kernelspec": {
   "display_name": "Python 3",
   "language": "python",
   "name": "python3"
  },
  "language_info": {
   "codemirror_mode": {
    "name": "ipython",
    "version": 3
   },
   "file_extension": ".py",
   "mimetype": "text/x-python",
   "name": "python",
   "nbconvert_exporter": "python",
   "pygments_lexer": "ipython3",
   "version": "3.6.4"
  }
 },
 "nbformat": 4,
 "nbformat_minor": 2
}
