{
 "cells": [
  {
   "cell_type": "code",
   "execution_count": 3,
   "metadata": {},
   "outputs": [],
   "source": [
    "import numpy as np\n",
    "import matplotlib.pyplot as plt\n",
    "\n",
    "\n",
    "from matplotlib import animation\n",
    "\n",
    "from IPython.display import HTML\n",
    "\n",
    "%matplotlib inline\n",
    "#if there is any drawing, do it inline"
   ]
  },
  {
   "cell_type": "code",
   "execution_count": 6,
   "metadata": {},
   "outputs": [
    {
     "name": "stdout",
     "output_type": "stream",
     "text": [
      "\u0007"
     ]
    }
   ],
   "source": [
    "rand_state = np.random.RandomState(42) \n",
    "#42 is the answer to everything\n",
    "\n",
    "import sys\n",
    "sys.stdout.write('\\a')\n",
    "sys.stdout.flush()\n"
   ]
  },
  {
   "cell_type": "markdown",
   "metadata": {},
   "source": [
    "# Just for Fun"
   ]
  },
  {
   "cell_type": "code",
   "execution_count": null,
   "metadata": {},
   "outputs": [],
   "source": [
    "math_exp = { 0 : r\"$W^{\\beta_3}_{\\delta_1 \\rho_1 \\sigma_2} = \"\n",
    "    r\"U^{\\beta_3}_{\\delta_1 \\rho_1} + \\frac{1}{8 \\pi^2} \"\n",
    "    r\"\\int^{\\alpha_2}_{\\alpha_2} d \\alpha^\\prime_2 \\left[\\frac{ \"\n",
    "    r\"U^{\\beta_2}_{\\delta_1 \\rho_1} - \\alpha^\\prime_2U^{\\beta_1}_\"\n",
    "    r\"{\\rho_1 \\sigma_2} }{U^{\\beta_0}_{\\rho_1 \\sigma_2}}\\right]$\" }\n",
    "\n",
    "# Creating figure and axis.\n",
    "t = np.linspace(0.0, 1.0, 100)\n",
    "x = np.cos(4 * np.pi * t)\n",
    "y = np.sin(4 * np.pi * t)\n",
    "#s = np.cos(4 * np.pi * t) + 2\n",
    "\n",
    "fig = plt.figure(figsize=(5, 5))\n",
    "\n",
    "plt.plot(y, x)\n",
    "plt.fill(x, y)\n",
    "\n",
    "plt.xlabel(\"cos(t)\")\n",
    "plt.ylabel(\"sin(t)\")\n",
    "plt.title(math_exp[0], fontsize=16, color='r', position=(0.5,1.1))\n",
    "\n",
    "plt.show()"
   ]
  },
  {
   "cell_type": "code",
   "execution_count": null,
   "metadata": {},
   "outputs": [],
   "source": [
    "def heart(fuzzy=True):\n",
    "    t = np.arange(0, 2*np.pi, 0.001)\n",
    "    x = 16*np.sin(t) ** 3\n",
    "    y = 13*np.cos(t) - 5*np.cos(2*t) - 2*np.cos(3*t) - np.cos(4*t)\n",
    "    if fuzzy:\n",
    "        x += 2*rand_state.randn(*t.shape)\n",
    "        y += 2*rand_state.randn(*t.shape)\n",
    "#        fuzz = 0.5*rand_state.randn(*t.shape)\n",
    "#        x += fuzz\n",
    "#        y += fuzz\n",
    "    return x,y"
   ]
  },
  {
   "cell_type": "code",
   "execution_count": null,
   "metadata": {},
   "outputs": [],
   "source": [
    "x,y = heart(True)\n",
    "plt.plot(x,y,'r.')\n",
    "#x"
   ]
  },
  {
   "cell_type": "code",
   "execution_count": null,
   "metadata": {},
   "outputs": [],
   "source": [
    "fig, ax = plt.subplots()\n",
    "\n",
    "ax.set_xlim((-200, 200))\n",
    "ax.set_ylim((-200, 150))\n",
    "\n",
    "x,y = heart(False)\n",
    "line, = ax.plot(10*x, 10*y, lw=20, color=\"blue\")"
   ]
  },
  {
   "cell_type": "code",
   "execution_count": null,
   "metadata": {},
   "outputs": [],
   "source": [
    "laser_sound = arcade.load_sound(\"laser.ogg\")\n",
    "\n",
    "def init():\n",
    "    line.set_data([], [])\n",
    "    return (line,)\n",
    "\n",
    "def animate(i):\n",
    "    x,y = heart(False)\n",
    "    x = (10+i/40.0)*x\n",
    "    y = (10+i/50.0)*y\n",
    "    line.set_data(x, y)\n",
    "    line.set_color(\"blue\")\n",
    "    line.set_linewidth(20)\n",
    "    return (line,)"
   ]
  },
  {
   "cell_type": "code",
   "execution_count": null,
   "metadata": {},
   "outputs": [],
   "source": [
    "anim = animation.FuncAnimation(fig, animate, init_func=init,\n",
    "                               frames=50, interval=10, \n",
    "                               blit=True)\n",
    "\n",
    "HTML(anim.to_jshtml())"
   ]
  },
  {
   "cell_type": "code",
   "execution_count": null,
   "metadata": {},
   "outputs": [],
   "source": []
  }
 ],
 "metadata": {
  "kernelspec": {
   "display_name": "Python 3",
   "language": "python",
   "name": "python3"
  },
  "language_info": {
   "codemirror_mode": {
    "name": "ipython",
    "version": 3
   },
   "file_extension": ".py",
   "mimetype": "text/x-python",
   "name": "python",
   "nbconvert_exporter": "python",
   "pygments_lexer": "ipython3",
   "version": "3.6.5"
  }
 },
 "nbformat": 4,
 "nbformat_minor": 2
}
